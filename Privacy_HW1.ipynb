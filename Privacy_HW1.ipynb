{
  "cells": [
    {
      "cell_type": "markdown",
      "metadata": {
        "id": "view-in-github",
        "colab_type": "text"
      },
      "source": [
        "<a href=\"https://colab.research.google.com/github/TimJackman/CS599HW/blob/main/Privacy_HW1.ipynb\" target=\"_parent\"><img src=\"https://colab.research.google.com/assets/colab-badge.svg\" alt=\"Open In Colab\"/></a>"
      ]
    },
    {
      "cell_type": "code",
      "execution_count": null,
      "metadata": {
        "id": "eALpJTk5_iir"
      },
      "outputs": [],
      "source": [
        "import numpy as np\n",
        "import math\n",
        "import pandas as pd\n",
        "\n",
        "rng = np.random.default_rng(seed=42)"
      ]
    },
    {
      "cell_type": "code",
      "execution_count": null,
      "metadata": {
        "id": "6E0C_KJX-W5C"
      },
      "outputs": [],
      "source": [
        "def sign(z):\n",
        "  return np.sign(z)\n",
        "\n",
        "#Basic Score (too slow :()\n",
        "def score(y,X):\n",
        "  score = 0\n",
        "  for xi in X:\n",
        "    score += sign(y - xi)\n",
        "  return -1 * abs(score)\n",
        "\n",
        "def fasterScore(y,sortedX):\n",
        "  greaterThanY = len(sortedX) - np.searchsorted(sortedX, y, side='right')\n",
        "  lessThanY = np.searchsorted(sortedX, y, side='left')\n",
        "  return -1 * abs(greaterThanY - lessThanY)"
      ]
    },
    {
      "cell_type": "code",
      "execution_count": null,
      "metadata": {
        "id": "fWHHBmri_92u"
      },
      "outputs": [],
      "source": [
        "def roundData(X,R):\n",
        "  roundedX = []\n",
        "  for xi in X:\n",
        "    roundedxi = round(xi)\n",
        "    if roundedxi < 1:\n",
        "      roundedxi = 1\n",
        "    elif roundedxi > R:\n",
        "      roundedxi = R\n",
        "    roundedX.append(roundedxi)\n",
        "  \n",
        "  return np.array(roundedX)\n",
        "\n",
        "\n",
        "def computeScores(sortedX, R):\n",
        "  scores = []\n",
        "  for i in range(R):\n",
        "    scores.append(fasterScore(i+1,X))\n",
        "  return scores\n",
        "\n",
        "def computeScoresSlow(X,R):\n",
        "  scores = []\n",
        "  for i in range(R):\n",
        "    scores.append(score(i+1,X))\n",
        "  return scores\n",
        "\n",
        "def noisyMedian(scores,R,epsilon):\n",
        "  Z = rng.exponential(2/epsilon,R)\n",
        "  return np.argmax(scores + Z) + 1"
      ]
    },
    {
      "cell_type": "code",
      "execution_count": null,
      "metadata": {
        "id": "LUgj6X-BDihq"
      },
      "outputs": [],
      "source": [
        "N = (50,100,500,2000,10000)\n",
        "eps = 0.1"
      ]
    },
    {
      "cell_type": "code",
      "execution_count": null,
      "metadata": {
        "id": "zpmXCpFJIJ8Q"
      },
      "outputs": [],
      "source": [
        "data = pd.DataFrame(columns=['Distribution', 'n', 'R','Data Set Number', 'Run Number','Absolute Value of Score'])"
      ]
    },
    {
      "cell_type": "code",
      "execution_count": null,
      "metadata": {
        "id": "xdtUSXfAFV6T"
      },
      "outputs": [],
      "source": [
        "# Normal Distribution\n",
        "RNormal = [2**7,2**10,2**16]\n",
        "for R in RNormal:\n",
        "  for n in N:\n",
        "    for dataSet in range(50):\n",
        "      X = np.sort(roundData(rng.normal(R/4, R/math.sqrt(10), n),R))\n",
        "      scores = computeScores(X, R)\n",
        "      for run in range(10):\n",
        "        noisy_median = noisyMedian(scores, R, eps)\n",
        "        noisy_median_score = fasterScore(noisy_median, X)\n",
        "        \n",
        "        result = ['Normal', n, R, dataSet, run, abs(noisy_median_score)]\n",
        "        data.loc[len(data)] = result"
      ]
    },
    {
      "cell_type": "code",
      "execution_count": null,
      "metadata": {
        "id": "pOhNp-hvtYl2"
      },
      "outputs": [],
      "source": [
        "# Poisson Distribution\n",
        "RPoisson = [2**7,2**10,2**16]\n",
        "for R in RPoisson:\n",
        "  for n in N:\n",
        "    for dataSet in range(50):\n",
        "      X = np.sort(roundData(rng.poisson(50, n),R))\n",
        "      scores = computeScores(X, R)\n",
        "      for run in range(10):\n",
        "        noisy_median = noisyMedian(scores, R, eps)\n",
        "        noisy_median_score = fasterScore(noisy_median, X)\n",
        "        \n",
        "        result = ['Poisson', n, R, dataSet, run, abs(noisy_median_score)]\n",
        "        data.loc[len(data)] = result"
      ]
    },
    {
      "cell_type": "code",
      "execution_count": null,
      "metadata": {
        "id": "MpN_fG2XH39o"
      },
      "outputs": [],
      "source": [
        "# Bimodal Distribution\n",
        "kBimodal = [10,100,200]\n",
        "R = 2**10\n",
        "for k in kBimodal:\n",
        "  for n in N:\n",
        "    for dataSet in range(50):\n",
        "      choices = [R/2 + k, R/2 - k]\n",
        "      X = np.sort(rng.choice(choices, n))\n",
        "      scores = computeScores(X, R)\n",
        "      for run in range(10):\n",
        "        noisy_median = noisyMedian(scores, R, eps)\n",
        "        noisy_median_score = fasterScore(noisy_median, X)\n",
        "        \n",
        "        result = ['Bimodal', n, k, dataSet, run, abs(noisy_median_score)]\n",
        "        data.loc[len(data)] = result"
      ]
    },
    {
      "cell_type": "code",
      "execution_count": null,
      "metadata": {
        "colab": {
          "base_uri": "https://localhost:8080/",
          "height": 17
        },
        "id": "F2NrJse9UVzA",
        "outputId": "6d1f7e48-6b20-4f5d-e953-c7dd1d9f35a6"
      },
      "outputs": [
        {
          "output_type": "display_data",
          "data": {
            "text/plain": [
              "<IPython.core.display.Javascript object>"
            ],
            "application/javascript": [
              "\n",
              "    async function download(id, filename, size) {\n",
              "      if (!google.colab.kernel.accessAllowed) {\n",
              "        return;\n",
              "      }\n",
              "      const div = document.createElement('div');\n",
              "      const label = document.createElement('label');\n",
              "      label.textContent = `Downloading \"${filename}\": `;\n",
              "      div.appendChild(label);\n",
              "      const progress = document.createElement('progress');\n",
              "      progress.max = size;\n",
              "      div.appendChild(progress);\n",
              "      document.body.appendChild(div);\n",
              "\n",
              "      const buffers = [];\n",
              "      let downloaded = 0;\n",
              "\n",
              "      const channel = await google.colab.kernel.comms.open(id);\n",
              "      // Send a message to notify the kernel that we're ready.\n",
              "      channel.send({})\n",
              "\n",
              "      for await (const message of channel.messages) {\n",
              "        // Send a message to notify the kernel that we're ready.\n",
              "        channel.send({})\n",
              "        if (message.buffers) {\n",
              "          for (const buffer of message.buffers) {\n",
              "            buffers.push(buffer);\n",
              "            downloaded += buffer.byteLength;\n",
              "            progress.value = downloaded;\n",
              "          }\n",
              "        }\n",
              "      }\n",
              "      const blob = new Blob(buffers, {type: 'application/binary'});\n",
              "      const a = document.createElement('a');\n",
              "      a.href = window.URL.createObjectURL(blob);\n",
              "      a.download = filename;\n",
              "      div.appendChild(a);\n",
              "      a.click();\n",
              "      div.remove();\n",
              "    }\n",
              "  "
            ]
          },
          "metadata": {}
        },
        {
          "output_type": "display_data",
          "data": {
            "text/plain": [
              "<IPython.core.display.Javascript object>"
            ],
            "application/javascript": [
              "download(\"download_3d031c37-7b79-4b4b-9b03-880a1e53902d\", \"output.csv\", 670399)"
            ]
          },
          "metadata": {}
        }
      ],
      "source": [
        "from google.colab import files\n",
        "\n",
        "data.to_csv('output.csv', encoding = 'utf-8-sig')\n",
        "files.download('output.csv')"
      ]
    }
  ],
  "metadata": {
    "colab": {
      "provenance": [],
      "authorship_tag": "ABX9TyMePADtlFnAtmWrXImn6tlG",
      "include_colab_link": true
    },
    "kernelspec": {
      "display_name": "Python 3",
      "name": "python3"
    },
    "language_info": {
      "name": "python"
    }
  },
  "nbformat": 4,
  "nbformat_minor": 0
}